{
  "nbformat": 4,
  "nbformat_minor": 0,
  "metadata": {
    "colab": {
      "provenance": []
    },
    "kernelspec": {
      "name": "python3",
      "display_name": "Python 3"
    },
    "language_info": {
      "name": "python"
    }
  },
  "cells": [
    {
      "cell_type": "markdown",
      "source": [
        "# Домашнее задание: декораторы\n"
      ],
      "metadata": {
        "id": "QY4qPJPpgyIS"
      }
    },
    {
      "cell_type": "markdown",
      "source": [
        "## Импорт библиотек, установка констант"
      ],
      "metadata": {
        "id": "Chacc6YchldZ"
      }
    },
    {
      "cell_type": "code",
      "source": [
        "import functools\n",
        "import requests\n",
        "import time\n",
        "import re\n",
        "\n",
        "from random import randint"
      ],
      "metadata": {
        "id": "w8iKrWvwhrFd"
      },
      "execution_count": 1,
      "outputs": []
    },
    {
      "cell_type": "code",
      "source": [
        "BOOK_PATH = 'https://www.gutenberg.org/files/2638/2638-0.txt'"
      ],
      "metadata": {
        "id": "-LRkS0fSi8Np"
      },
      "execution_count": 2,
      "outputs": []
    },
    {
      "cell_type": "markdown",
      "source": [
        "## Задание 1"
      ],
      "metadata": {
        "id": "kARfL8ifg4MH"
      }
    },
    {
      "cell_type": "code",
      "execution_count": 3,
      "metadata": {
        "id": "hNHNWPhngrUl"
      },
      "outputs": [],
      "source": [
        "def benchmark(func):\n",
        "    \"\"\"\n",
        "    Декоратор, выводящий время, которое заняло выполнение декорируемой функции\n",
        "    \"\"\"\n",
        "    @functools.wraps(func)\n",
        "    def wrapper(*args, **kwargs):\n",
        "        start = time.perf_counter()\n",
        "        result = func(*args, **kwargs)\n",
        "        end = time.perf_counter()\n",
        "        print(f'Время выполнения функции {func.__name__} составило: {end - start}')\n",
        "        print()\n",
        "        return result\n",
        "    return wrapper"
      ]
    },
    {
      "cell_type": "markdown",
      "source": [
        "## Задание 2"
      ],
      "metadata": {
        "id": "tGlbUKjihL5n"
      }
    },
    {
      "cell_type": "code",
      "source": [
        "def logging(func):\n",
        "    \"\"\"\n",
        "    Декоратор, который выводит параметры с которыми была вызвана функция\n",
        "    \"\"\"\n",
        "    @functools.wraps(func)\n",
        "    def wrapper(*args, **kwargs):\n",
        "        result = func(*args, **kwargs)\n",
        "        print('Функция вызвана с параметрами:')\n",
        "        print(args, kwargs)\n",
        "        print()\n",
        "        return result\n",
        "    return wrapper"
      ],
      "metadata": {
        "id": "wugOZDLqhNe-"
      },
      "execution_count": 4,
      "outputs": []
    },
    {
      "cell_type": "markdown",
      "source": [
        "## Задание 3"
      ],
      "metadata": {
        "id": "Sq1tv5fshTfv"
      }
    },
    {
      "cell_type": "code",
      "source": [
        "def counter(func):\n",
        "    \"\"\"\n",
        "    Декоратор, считающий и выводящий количество вызовов декорируемой функции\n",
        "    \"\"\"\n",
        "    func.counter = 0\n",
        "    @functools.wraps(func)\n",
        "    def wrapper(*args, **kwargs):\n",
        "        func.counter += 1\n",
        "        result = func(*args, **kwargs)\n",
        "        print(f\"Функция была вызвана {func.counter} раз(а)\")\n",
        "        print()\n",
        "        return result\n",
        "    return wrapper"
      ],
      "metadata": {
        "id": "9nyvuxXkhVeb"
      },
      "execution_count": 5,
      "outputs": []
    },
    {
      "cell_type": "markdown",
      "source": [
        "## Задание 4"
      ],
      "metadata": {
        "id": "uHn8Adfshz5q"
      }
    },
    {
      "cell_type": "code",
      "source": [
        "def memo(func):\n",
        "    \"\"\"\n",
        "    Декоратор, запоминающий результаты исполнения функции func, чьи аргументы args должны быть хешируемыми\n",
        "    \"\"\"\n",
        "    cache = {}\n",
        "    def fmemo(*args):\n",
        "        if args in cache:\n",
        "            return cache[args]\n",
        "        result = func(*args)\n",
        "        cache[args] = result\n",
        "        return result\n",
        "\n",
        "    fmemo.cache = cache\n",
        "    return fmemo"
      ],
      "metadata": {
        "id": "R7uu6WtGifNX"
      },
      "execution_count": 6,
      "outputs": []
    },
    {
      "cell_type": "markdown",
      "source": [
        "## Тестирование"
      ],
      "metadata": {
        "id": "Zn5UQCa_izxo"
      }
    },
    {
      "cell_type": "code",
      "source": [
        "@counter\n",
        "@logging\n",
        "@benchmark\n",
        "def word_count(word, url=BOOK_PATH):\n",
        "    \"\"\"\n",
        "    Функция для посчета указанного слова на html-странице\n",
        "    \"\"\"\n",
        "    # отправляем запрос в библиотеку Gutenberg и забираем текст\n",
        "    raw = requests.get(url).text\n",
        "    # заменяем в тексте все небуквенные символы на пробелы\n",
        "    processed_book = re.sub('[\\W]+' , ' ', raw).lower()\n",
        "    # считаем\n",
        "    cnt = len(re.findall(word.lower(), processed_book))\n",
        "\n",
        "    return f\"Cлово {word} встречается {cnt} раз\"\n",
        "\n",
        "print(word_count('whole'))"
      ],
      "metadata": {
        "id": "CHCJ64I8i2QB",
        "colab": {
          "base_uri": "https://localhost:8080/"
        },
        "outputId": "1deec1cf-575f-4113-ab66-b10e8a49f464"
      },
      "execution_count": 7,
      "outputs": [
        {
          "output_type": "stream",
          "name": "stdout",
          "text": [
            "Время выполнения функции word_count составило: 2.014985912999691\n",
            "\n",
            "Функция вызвана с параметрами:\n",
            "('whole',) {}\n",
            "\n",
            "Функция была вызвана 1 раз(а)\n",
            "\n",
            "Cлово whole встречается 176 раз\n"
          ]
        }
      ]
    },
    {
      "cell_type": "code",
      "source": [
        "@benchmark\n",
        "def fib_wo_cache(n):\n",
        "    if n < 2:\n",
        "        return n\n",
        "    return fib_wo_cache(n-2) + fib_wo_cache(n-1)"
      ],
      "metadata": {
        "id": "ZE4Rfn-hh3k3"
      },
      "execution_count": 8,
      "outputs": []
    },
    {
      "cell_type": "code",
      "source": [
        "# измеряем время выполнения\n",
        "print(fib_wo_cache(5))"
      ],
      "metadata": {
        "id": "Io94NyjiiXG4",
        "colab": {
          "base_uri": "https://localhost:8080/"
        },
        "outputId": "be4002d5-1179-4e79-b1d3-9e68041baac0"
      },
      "execution_count": 9,
      "outputs": [
        {
          "output_type": "stream",
          "name": "stdout",
          "text": [
            "Время выполнения функции fib_wo_cache составило: 8.729984983801842e-07\n",
            "\n",
            "Время выполнения функции fib_wo_cache составило: 1.2210002751089633e-06\n",
            "\n",
            "Время выполнения функции fib_wo_cache составило: 7.719991117483005e-07\n",
            "\n",
            "Время выполнения функции fib_wo_cache составило: 9.544800013827626e-05\n",
            "\n",
            "Время выполнения функции fib_wo_cache составило: 0.004727327001091908\n",
            "\n",
            "Время выполнения функции fib_wo_cache составило: 9.150007826974615e-07\n",
            "\n",
            "Время выполнения функции fib_wo_cache составило: 4.650009941542521e-07\n",
            "\n",
            "Время выполнения функции fib_wo_cache составило: 5.0236998504260555e-05\n",
            "\n",
            "Время выполнения функции fib_wo_cache составило: 4.459998308448121e-07\n",
            "\n",
            "Время выполнения функции fib_wo_cache составило: 6.810005288571119e-07\n",
            "\n",
            "Время выполнения функции fib_wo_cache составило: 4.289995558792725e-07\n",
            "\n",
            "Время выполнения функции fib_wo_cache составило: 4.778099901159294e-05\n",
            "\n",
            "Время выполнения функции fib_wo_cache составило: 9.487900024396367e-05\n",
            "\n",
            "Время выполнения функции fib_wo_cache составило: 0.0001905859990074532\n",
            "\n",
            "Время выполнения функции fib_wo_cache составило: 0.004979713001375785\n",
            "\n",
            "5\n"
          ]
        }
      ]
    },
    {
      "cell_type": "code",
      "source": [
        "@benchmark\n",
        "@memo\n",
        "def fib_w_cache(n):\n",
        "    if n < 2:\n",
        "        return n\n",
        "    return fib_w_cache(n-2) + fib_w_cache(n-1)"
      ],
      "metadata": {
        "id": "W9B3e-t9iTUj"
      },
      "execution_count": 10,
      "outputs": []
    },
    {
      "cell_type": "code",
      "source": [
        "# измеряем время выполнения\n",
        "print(fib_w_cache(5))"
      ],
      "metadata": {
        "id": "Sk6_4KQaidkh",
        "colab": {
          "base_uri": "https://localhost:8080/"
        },
        "outputId": "f1d6428c-c076-4688-f35d-89a993b38586"
      },
      "execution_count": 11,
      "outputs": [
        {
          "output_type": "stream",
          "name": "stdout",
          "text": [
            "Время выполнения функции fmemo составило: 1.8310001905774698e-06\n",
            "\n",
            "Время выполнения функции fmemo составило: 1.6569993022130802e-06\n",
            "\n",
            "Время выполнения функции fmemo составило: 1.1929987522307783e-06\n",
            "\n",
            "Время выполнения функции fmemo составило: 5.919700015510898e-05\n",
            "\n",
            "Время выполнения функции fmemo составило: 0.0001626840003154939\n",
            "\n",
            "Время выполнения функции fmemo составило: 8.509996405337006e-07\n",
            "\n",
            "Время выполнения функции fmemo составило: 8.740007615415379e-07\n",
            "\n",
            "Время выполнения функции fmemo составило: 4.910499956167769e-05\n",
            "\n",
            "Время выполнения функции fmemo составило: 0.00026475500089873094\n",
            "\n",
            "5\n"
          ]
        }
      ]
    }
  ]
}